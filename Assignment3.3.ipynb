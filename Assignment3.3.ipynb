{
 "cells": [
  {
   "cell_type": "code",
   "execution_count": 8,
   "metadata": {},
   "outputs": [
    {
     "name": "stdout",
     "output_type": "stream",
     "text": [
      "LongestWord :ABCDEFGHI\n"
     ]
    }
   ],
   "source": [
    "#Assignment 3.3\n",
    "#Implement a function longestWord() that takes a list of words and returns the longest one.\n",
    "def longestWord(listOfWords=[]):\n",
    "    myDict={}\n",
    "    for i in range(len(listOfWords)):\n",
    "        myDict.update({len(listOfWords[i]):listOfWords[i]})\n",
    "    \n",
    "    return myDict[(max(myDict.keys()))]\n",
    "\n",
    "tempList=[\"ABC\",\"A\",\"ABCD\",\"ABCDE\",\"ABCDEFGHI\",\"AB\"]\n",
    "longestStr=longestWord(tempList)\n",
    "print(\"LongestWord :\"+longestStr)"
   ]
  },
  {
   "cell_type": "code",
   "execution_count": null,
   "metadata": {},
   "outputs": [],
   "source": []
  }
 ],
 "metadata": {
  "kernelspec": {
   "display_name": "Python 3",
   "language": "python",
   "name": "python3"
  },
  "language_info": {
   "codemirror_mode": {
    "name": "ipython",
    "version": 3
   },
   "file_extension": ".py",
   "mimetype": "text/x-python",
   "name": "python",
   "nbconvert_exporter": "python",
   "pygments_lexer": "ipython3",
   "version": "3.6.4"
  }
 },
 "nbformat": 4,
 "nbformat_minor": 2
}
